{
 "cells": [
  {
   "cell_type": "code",
   "execution_count": 66,
   "metadata": {},
   "outputs": [],
   "source": [
    "from typing import List, Tuple, DefaultDict\n",
    "from sys import maxsize\n",
    "from itertools import combinations\n",
    "DIRS = [\n",
    "    (0, 1),\n",
    "    (1, 0),\n",
    "    (0, -1),\n",
    "    (-1, 0)\n",
    "]"
   ]
  },
  {
   "cell_type": "code",
   "execution_count": 67,
   "id": "836008fc",
   "metadata": {},
   "outputs": [],
   "source": [
    "def get_data(file_name: str = 'input') -> List[List[int]]:\n",
    "    with open(file_name) as f:\n",
    "        lines = f.readlines()\n",
    "\n",
    "    return [list(map(int, list(line.strip()))) for line in lines]\n",
    "\n",
    "def get_neighbours(x: int, y: int, grid: List[List[int]]) -> List[Tuple[int, int]]:\n",
    "    neighbours = []\n",
    "    for dx, dy in DIRS:\n",
    "        if 0 <= x + dx < len(grid) and 0 <= y + dy < len(grid[0]):\n",
    "            neighbours.append((x + dx, y + dy))\n",
    "    neighbours.sort(key = lambda x: grid[x[0]][x[1]])        \n",
    "    return neighbours\n",
    "data = get_data()\n",
    "data[0][0] = 0\n"
   ]
  },
  {
   "cell_type": "code",
   "execution_count": 68,
   "id": "8bf664f0",
   "metadata": {},
   "outputs": [
    {
     "name": "stdout",
     "output_type": "stream",
     "text": [
      "554\n"
     ]
    }
   ],
   "source": [
    "costs = DefaultDict(lambda: maxsize)\n",
    "costs[(0,0)] = 0\n",
    "unvisited = list(combinations(range(len(data[0])), 2)) + list(zip(range(len(data)), range(len(data))))\n",
    "\n",
    "start = (0,0)\n",
    "end = (len(data)-1, len(data[0])-1)\n",
    "while unvisited:\n",
    "    unvisited.sort(key = lambda x: costs[x])\n",
    "    x, y  = unvisited[0]\n",
    "    \n",
    "    for neighbour in get_neighbours(x, y, data):\n",
    "        new_cost = costs[(x, y)] + data[neighbour[0]][neighbour[1]]\n",
    "        if new_cost < costs[neighbour]:\n",
    "            costs[neighbour] = new_cost\n",
    "    if (x, y) == end:\n",
    "        break                                \n",
    "    unvisited.remove((x, y))        \n",
    "\n",
    "print(costs[end])"
   ]
  }
 ],
 "metadata": {
  "interpreter": {
   "hash": "8a94588eda9d64d9e9a351ab8144e55b1fabf5113b54e67dd26a8c27df0381b3"
  },
  "kernelspec": {
   "display_name": "Python 3.10.0 64-bit",
   "language": "python",
   "name": "python3"
  },
  "language_info": {
   "codemirror_mode": {
    "name": "ipython",
    "version": 3
   },
   "file_extension": ".py",
   "mimetype": "text/x-python",
   "name": "python",
   "nbconvert_exporter": "python",
   "pygments_lexer": "ipython3",
   "version": "3.10.1"
  }
 },
 "nbformat": 4,
 "nbformat_minor": 5
}
